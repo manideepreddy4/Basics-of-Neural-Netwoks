{
 "cells": [
  {
   "cell_type": "code",
   "execution_count": 18,
   "id": "d6120974",
   "metadata": {},
   "outputs": [],
   "source": [
    "import numpy as np"
   ]
  },
  {
   "cell_type": "markdown",
   "id": "79af0a0c",
   "metadata": {},
   "source": [
    "# Single Layered Neural Network"
   ]
  },
  {
   "cell_type": "markdown",
   "id": "6632b592",
   "metadata": {},
   "source": [
    "# Creating Input Layer"
   ]
  },
  {
   "cell_type": "code",
   "execution_count": 9,
   "id": "c7072e07",
   "metadata": {},
   "outputs": [],
   "source": [
    "x0 = 2"
   ]
  },
  {
   "cell_type": "code",
   "execution_count": 10,
   "id": "155041a2",
   "metadata": {},
   "outputs": [],
   "source": [
    "x1 = 3"
   ]
  },
  {
   "cell_type": "code",
   "execution_count": 22,
   "id": "1202d651",
   "metadata": {},
   "outputs": [
    {
     "name": "stdout",
     "output_type": "stream",
     "text": [
      "Input Layer =  [2 3]\n"
     ]
    }
   ],
   "source": [
    "input_layer = np.array([x0,x1])\n",
    "print(\"Input Layer = \",input_layer)"
   ]
  },
  {
   "cell_type": "markdown",
   "id": "db1ab1eb",
   "metadata": {},
   "source": [
    "# Creating Hidden Layer"
   ]
  },
  {
   "cell_type": "markdown",
   "id": "e1d47719",
   "metadata": {},
   "source": [
    "### A weight decides how much influence the input will have on the output"
   ]
  },
  {
   "cell_type": "code",
   "execution_count": 13,
   "id": "74efa424",
   "metadata": {},
   "outputs": [],
   "source": [
    "#assigning weights to the inputs\n",
    "\n",
    "weights = { \"x2\" : np.array([1,1]),\n",
    "            \"x3\" : np.array([-1,1]),\n",
    "            \"x4\" : np.array([2,-1]),\n",
    "    \n",
    "}"
   ]
  },
  {
   "cell_type": "code",
   "execution_count": 14,
   "id": "1a16a293",
   "metadata": {},
   "outputs": [
    {
     "data": {
      "text/plain": [
       "{'x2': array([1, 1]), 'x3': array([-1,  1]), 'x4': array([ 2, -1])}"
      ]
     },
     "execution_count": 14,
     "metadata": {},
     "output_type": "execute_result"
    }
   ],
   "source": [
    "weights"
   ]
  },
  {
   "cell_type": "markdown",
   "id": "3a23af8d",
   "metadata": {},
   "source": [
    "# Calculating Hidden Layer"
   ]
  },
  {
   "cell_type": "markdown",
   "id": "c345a3d7",
   "metadata": {},
   "source": [
    "#### The input values multiplied with respective weights then we will get the hidden layer\n",
    "\n",
    "X * W (Data from the input layer * weights)"
   ]
  },
  {
   "cell_type": "code",
   "execution_count": 15,
   "id": "164ec0a8",
   "metadata": {},
   "outputs": [],
   "source": [
    "x2 = (input_layer * weights[\"x2\"]).sum()"
   ]
  },
  {
   "cell_type": "code",
   "execution_count": 17,
   "id": "60cc948e",
   "metadata": {},
   "outputs": [],
   "source": [
    "x3 = (input_layer * weights[\"x3\"]).sum()"
   ]
  },
  {
   "cell_type": "code",
   "execution_count": 18,
   "id": "110cee7e",
   "metadata": {},
   "outputs": [],
   "source": [
    "Hidden_layer = np.array([x2,x3])"
   ]
  },
  {
   "cell_type": "code",
   "execution_count": 21,
   "id": "f89c9516",
   "metadata": {},
   "outputs": [
    {
     "name": "stdout",
     "output_type": "stream",
     "text": [
      "Hidden layer = [5 1]\n"
     ]
    }
   ],
   "source": [
    "print(\"Hidden layer =\",Hidden_layer)"
   ]
  },
  {
   "cell_type": "markdown",
   "id": "8f8c064b",
   "metadata": {},
   "source": [
    "# Output Layer"
   ]
  },
  {
   "cell_type": "code",
   "execution_count": 23,
   "id": "ad404c11",
   "metadata": {},
   "outputs": [],
   "source": [
    "x4 = (Hidden_layer * weights[\"x4\"]).sum()"
   ]
  },
  {
   "cell_type": "code",
   "execution_count": 24,
   "id": "dbbac3fa",
   "metadata": {},
   "outputs": [],
   "source": [
    "Output_Layer = np.array([x4])"
   ]
  },
  {
   "cell_type": "code",
   "execution_count": 26,
   "id": "78a7d597",
   "metadata": {},
   "outputs": [
    {
     "name": "stdout",
     "output_type": "stream",
     "text": [
      "Output Layer =  [9]\n"
     ]
    }
   ],
   "source": [
    "print(\"Output Layer = \",Output_Layer )"
   ]
  },
  {
   "cell_type": "code",
   "execution_count": null,
   "id": "b811d316",
   "metadata": {},
   "outputs": [],
   "source": []
  },
  {
   "cell_type": "markdown",
   "id": "69ec2498",
   "metadata": {},
   "source": [
    "# Multi-Layered Neural Networks"
   ]
  },
  {
   "cell_type": "markdown",
   "id": "8c801081",
   "metadata": {},
   "source": [
    "### Input layer"
   ]
  },
  {
   "cell_type": "code",
   "execution_count": 28,
   "id": "8063a300",
   "metadata": {},
   "outputs": [
    {
     "name": "stdout",
     "output_type": "stream",
     "text": [
      "[2 3]\n"
     ]
    }
   ],
   "source": [
    "x1 = 2\n",
    "x2 = 3\n",
    "Input_layer = np.array([x1,x2])\n",
    "print(Input_layer)"
   ]
  },
  {
   "cell_type": "code",
   "execution_count": 29,
   "id": "c75f6a25",
   "metadata": {},
   "outputs": [],
   "source": [
    "weights = {\n",
    "    \"w1\" : np.array([1,1]),\n",
    "    \"w2\" : np.array([-1,1]),\n",
    "    \"w3\" : np.array([-2,1]),\n",
    "    \"w4\" : np.array([1,0]),\n",
    "    \"w5\" : np.array([1,-1]),\n",
    "}"
   ]
  },
  {
   "cell_type": "markdown",
   "id": "b1033e8f",
   "metadata": {},
   "source": [
    "### First Hidden Layer"
   ]
  },
  {
   "cell_type": "code",
   "execution_count": 37,
   "id": "637ca758",
   "metadata": {},
   "outputs": [],
   "source": [
    "x3 = (input_layer * weights[\"w1\"]).sum()\n",
    "x4 = (input_layer * weights[\"w2\"]).sum()"
   ]
  },
  {
   "cell_type": "code",
   "execution_count": 38,
   "id": "00768706",
   "metadata": {},
   "outputs": [],
   "source": [
    "Hidden_layer = np.array([x3,x4])"
   ]
  },
  {
   "cell_type": "code",
   "execution_count": 40,
   "id": "febbb886",
   "metadata": {},
   "outputs": [
    {
     "name": "stdout",
     "output_type": "stream",
     "text": [
      "[5 1]\n"
     ]
    }
   ],
   "source": [
    "print(Hidden_layer)"
   ]
  },
  {
   "cell_type": "markdown",
   "id": "62837ab1",
   "metadata": {},
   "source": [
    "### Second Hidden Layer"
   ]
  },
  {
   "cell_type": "code",
   "execution_count": 41,
   "id": "2209fab4",
   "metadata": {},
   "outputs": [],
   "source": [
    "x5 = (Hidden_layer * weights[\"w3\"]).sum()\n",
    "x6 = (Hidden_layer * weights[\"w4\"]).sum()"
   ]
  },
  {
   "cell_type": "code",
   "execution_count": 42,
   "id": "df245d5c",
   "metadata": {},
   "outputs": [],
   "source": [
    "sec_hidden_layer = np.array([x5,x6])"
   ]
  },
  {
   "cell_type": "code",
   "execution_count": 43,
   "id": "c348b129",
   "metadata": {},
   "outputs": [
    {
     "name": "stdout",
     "output_type": "stream",
     "text": [
      "[-9  5]\n"
     ]
    }
   ],
   "source": [
    "print(sec_hidden_layer)"
   ]
  },
  {
   "cell_type": "markdown",
   "id": "6249f8cc",
   "metadata": {},
   "source": [
    "### Output layer"
   ]
  },
  {
   "cell_type": "code",
   "execution_count": 44,
   "id": "b0afc649",
   "metadata": {},
   "outputs": [],
   "source": [
    "x7 = (sec_hidden_layer * weights[\"w5\"]).sum()"
   ]
  },
  {
   "cell_type": "code",
   "execution_count": 45,
   "id": "43b75c31",
   "metadata": {},
   "outputs": [],
   "source": [
    "output_layer = np.array([x7])"
   ]
  },
  {
   "cell_type": "code",
   "execution_count": 46,
   "id": "49ef45fb",
   "metadata": {},
   "outputs": [
    {
     "name": "stdout",
     "output_type": "stream",
     "text": [
      "[-14]\n"
     ]
    }
   ],
   "source": [
    "print(output_layer)"
   ]
  },
  {
   "cell_type": "code",
   "execution_count": null,
   "id": "21dec487",
   "metadata": {},
   "outputs": [],
   "source": []
  },
  {
   "cell_type": "markdown",
   "id": "ae12dd3a",
   "metadata": {},
   "source": [
    "# Multi-Layered Neural Network with Activation Function"
   ]
  },
  {
   "cell_type": "markdown",
   "id": "8c8d9737",
   "metadata": {},
   "source": [
    "### Relu activation"
   ]
  },
  {
   "cell_type": "code",
   "execution_count": 1,
   "id": "3ee003be",
   "metadata": {},
   "outputs": [],
   "source": [
    "def relu(x):\n",
    "    return (max(0,x))"
   ]
  },
  {
   "cell_type": "markdown",
   "id": "6005e6b1",
   "metadata": {},
   "source": [
    "### Sigmoid activation"
   ]
  },
  {
   "cell_type": "code",
   "execution_count": 48,
   "id": "38ead562",
   "metadata": {},
   "outputs": [],
   "source": [
    "def sigmoid(x):\n",
    "    e = 2.71\n",
    "    x = 1 / (1 + e**-x)\n",
    "    if x >= 0.5:\n",
    "        print(\"1\")\n",
    "    else:\n",
    "        print(\"0\")"
   ]
  },
  {
   "cell_type": "markdown",
   "id": "43c77a6d",
   "metadata": {},
   "source": [
    "### Input layer"
   ]
  },
  {
   "cell_type": "code",
   "execution_count": 19,
   "id": "2f273725",
   "metadata": {},
   "outputs": [
    {
     "name": "stdout",
     "output_type": "stream",
     "text": [
      "[2 3]\n"
     ]
    }
   ],
   "source": [
    "x1 = 2                                #inputs\n",
    "x2 = 3\n",
    "Input_layer = np.array([x1,x2])\n",
    "print(Input_layer)"
   ]
  },
  {
   "cell_type": "code",
   "execution_count": 20,
   "id": "7ab29426",
   "metadata": {},
   "outputs": [],
   "source": [
    " weights = {                          # weights\n",
    "    \"w1\" : np.array([1,1]), \n",
    "    \"w2\" : np.array([-1,1]),\n",
    "    \"w3\" : np.array([-2,1]),\n",
    "    \"w4\" : np.array([1,0]),\n",
    "    \"w5\" : np.array([1,-1]),\n",
    "}"
   ]
  },
  {
   "cell_type": "markdown",
   "id": "348c4f57",
   "metadata": {},
   "source": [
    "### Hidden layer"
   ]
  },
  {
   "cell_type": "code",
   "execution_count": 24,
   "id": "8c5a7a50",
   "metadata": {},
   "outputs": [],
   "source": [
    "x3 = (Input_layer * weights[\"w1\"]).sum()       #first layer\n",
    "x4 = (Input_layer * weights[\"w2\"]).sum()"
   ]
  },
  {
   "cell_type": "code",
   "execution_count": 30,
   "id": "37418399",
   "metadata": {},
   "outputs": [],
   "source": [
    "x3 = relu(x3)        #relu activation function\n",
    "x4 = relu(x4)"
   ]
  },
  {
   "cell_type": "code",
   "execution_count": 31,
   "id": "33e1d8c2",
   "metadata": {},
   "outputs": [],
   "source": [
    "first_Hidden_layer = np.array([x3,x4])"
   ]
  },
  {
   "cell_type": "code",
   "execution_count": 32,
   "id": "8f2d018a",
   "metadata": {},
   "outputs": [
    {
     "name": "stdout",
     "output_type": "stream",
     "text": [
      "[5 1]\n"
     ]
    }
   ],
   "source": [
    "print(first_Hidden_layer)"
   ]
  },
  {
   "cell_type": "markdown",
   "id": "92373de1",
   "metadata": {},
   "source": [
    "### Second hidden layer"
   ]
  },
  {
   "cell_type": "code",
   "execution_count": 37,
   "id": "bef93fe5",
   "metadata": {},
   "outputs": [],
   "source": [
    "x5 = (first_Hidden_layer * weights[\"w3\"]).sum()     #second layer\n",
    "x6 = (first_Hidden_layer * weights[\"w4\"]).sum()"
   ]
  },
  {
   "cell_type": "code",
   "execution_count": 38,
   "id": "381e445e",
   "metadata": {},
   "outputs": [],
   "source": [
    "x5 = relu(x5)          #relu activation function\n",
    "x6 = relu(x6)       "
   ]
  },
  {
   "cell_type": "code",
   "execution_count": 40,
   "id": "eaf79f0c",
   "metadata": {},
   "outputs": [],
   "source": [
    "second_Hidden_layer = np.array([x5,x6])"
   ]
  },
  {
   "cell_type": "code",
   "execution_count": 41,
   "id": "3e62f9eb",
   "metadata": {},
   "outputs": [
    {
     "name": "stdout",
     "output_type": "stream",
     "text": [
      "[0 5]\n"
     ]
    }
   ],
   "source": [
    "print(second_Hidden_layer)"
   ]
  },
  {
   "cell_type": "markdown",
   "id": "183c6467",
   "metadata": {},
   "source": [
    "### Output Layer"
   ]
  },
  {
   "cell_type": "code",
   "execution_count": 55,
   "id": "deefdaad",
   "metadata": {},
   "outputs": [],
   "source": [
    "x7 = (second_Hidden_layer * weights[\"w5\"]).sum()    #output layer"
   ]
  },
  {
   "cell_type": "code",
   "execution_count": 56,
   "id": "747b10b7",
   "metadata": {},
   "outputs": [
    {
     "name": "stdout",
     "output_type": "stream",
     "text": [
      "-5\n"
     ]
    }
   ],
   "source": [
    "print(x7)           #Here the value is in negative so we will get x value less than 0.5"
   ]
  },
  {
   "cell_type": "code",
   "execution_count": 57,
   "id": "27c04a51",
   "metadata": {},
   "outputs": [
    {
     "name": "stdout",
     "output_type": "stream",
     "text": [
      "0\n"
     ]
    }
   ],
   "source": [
    "x7 = sigmoid(x7)     #The x value is less than 0.5 so we get 0"
   ]
  },
  {
   "cell_type": "code",
   "execution_count": null,
   "id": "908779ff",
   "metadata": {},
   "outputs": [],
   "source": []
  },
  {
   "cell_type": "code",
   "execution_count": null,
   "id": "21472642",
   "metadata": {},
   "outputs": [],
   "source": []
  },
  {
   "cell_type": "code",
   "execution_count": null,
   "id": "616b945a",
   "metadata": {},
   "outputs": [],
   "source": []
  }
 ],
 "metadata": {
  "kernelspec": {
   "display_name": "Python 3",
   "language": "python",
   "name": "python3"
  },
  "language_info": {
   "codemirror_mode": {
    "name": "ipython",
    "version": 3
   },
   "file_extension": ".py",
   "mimetype": "text/x-python",
   "name": "python",
   "nbconvert_exporter": "python",
   "pygments_lexer": "ipython3",
   "version": "3.8.5"
  }
 },
 "nbformat": 4,
 "nbformat_minor": 5
}
